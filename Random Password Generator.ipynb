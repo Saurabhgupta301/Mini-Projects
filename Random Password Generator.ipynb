{
 "cells": [
  {
   "cell_type": "markdown",
   "id": "ff1d208f",
   "metadata": {},
   "source": [
    "# Random Password Generator"
   ]
  },
  {
   "cell_type": "code",
   "execution_count": 4,
   "id": "5eb5804a",
   "metadata": {},
   "outputs": [
    {
     "name": "stdout",
     "output_type": "stream",
     "text": [
      " Enter the length of password 8\n",
      "pkV#jizZ\n"
     ]
    }
   ],
   "source": [
    "import random \n",
    "passlen = int(input(' Enter the length of password'))\n",
    "s = 'abcdefghijklmnopqrstuvwxyz0123456789ABCDEFGHIJKLMNOPQRSTUVWXYZ!@#$%^&*?'\n",
    "p = \"\".join(random.sample(s, passlen))\n",
    "print(p)"
   ]
  },
  {
   "cell_type": "code",
   "execution_count": null,
   "id": "1966a46b",
   "metadata": {},
   "outputs": [],
   "source": []
  }
 ],
 "metadata": {
  "kernelspec": {
   "display_name": "Python 3",
   "language": "python",
   "name": "python3"
  },
  "language_info": {
   "codemirror_mode": {
    "name": "ipython",
    "version": 3
   },
   "file_extension": ".py",
   "mimetype": "text/x-python",
   "name": "python",
   "nbconvert_exporter": "python",
   "pygments_lexer": "ipython3",
   "version": "3.8.8"
  }
 },
 "nbformat": 4,
 "nbformat_minor": 5
}
